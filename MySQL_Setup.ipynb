{
 "cells": [
  {
   "cell_type": "code",
   "execution_count": 1,
   "id": "edbc49d3",
   "metadata": {},
   "outputs": [],
   "source": [
    "from pyspark.sql import SparkSession"
   ]
  },
  {
   "cell_type": "code",
   "execution_count": 2,
   "id": "658511ac",
   "metadata": {},
   "outputs": [],
   "source": [
    "spark = SparkSession.builder.master(\"local\").appName(\"PySpark_MySQL_test\").getOrCreate()"
   ]
  },
  {
   "cell_type": "code",
   "execution_count": 3,
   "id": "a0fb613e",
   "metadata": {},
   "outputs": [
    {
     "data": {
      "text/html": [
       "\n",
       "            <div>\n",
       "                <p><b>SparkSession - in-memory</b></p>\n",
       "                \n",
       "        <div>\n",
       "            <p><b>SparkContext</b></p>\n",
       "\n",
       "            <p><a href=\"http://host.docker.internal:4040\">Spark UI</a></p>\n",
       "\n",
       "            <dl>\n",
       "              <dt>Version</dt>\n",
       "                <dd><code>v3.3.1</code></dd>\n",
       "              <dt>Master</dt>\n",
       "                <dd><code>local</code></dd>\n",
       "              <dt>AppName</dt>\n",
       "                <dd><code>PySpark_MySQL_test</code></dd>\n",
       "            </dl>\n",
       "        </div>\n",
       "        \n",
       "            </div>\n",
       "        "
      ],
      "text/plain": [
       "<pyspark.sql.session.SparkSession at 0x24ca4ee50a0>"
      ]
     },
     "execution_count": 3,
     "metadata": {},
     "output_type": "execute_result"
    }
   ],
   "source": [
    "spark"
   ]
  },
  {
   "cell_type": "code",
   "execution_count": 4,
   "id": "13d659c0",
   "metadata": {},
   "outputs": [],
   "source": [
    "import findspark\n",
    "findspark.init()"
   ]
  },
  {
   "cell_type": "code",
   "execution_count": 5,
   "id": "6d3b366c",
   "metadata": {},
   "outputs": [],
   "source": [
    "import os\n",
    "# import path\n",
    "mysql_jar_path = os.path.join(\"driver\", \"mysql-connector-j-8.2.0.jar\")\n",
    "spark = SparkSession.builder \\\n",
    "    .appName(\"PySpark MySQL Connection\") \\\n",
    "    .config(\"spark.jars\", mysql_jar_path) \\\n",
    "    .getOrCreate()"
   ]
  },
  {
   "cell_type": "code",
   "execution_count": 6,
   "id": "6dcc7a46",
   "metadata": {},
   "outputs": [],
   "source": [
    "url = \"jdbc:mysql://127.0.0.1:3306/adventureworks\"\n",
    "properties = {\n",
    "    \"user\": \"root\",\n",
    "    \"password\": \"pass123\",\n",
    "    \"driver\": \"com.mysql.cj.jdbc.Driver\"\n",
    "}"
   ]
  },
  {
   "cell_type": "code",
   "execution_count": 11,
   "id": "714951e7",
   "metadata": {},
   "outputs": [],
   "source": [
    "employee_df = spark.read.format(\"jdbc\").option(\"url\", url).option(\"dbtable\", \"employee\").options(**properties).load()\n",
    "product_df = spark.read.format(\"jdbc\").option(\"url\", url).option(\"dbtable\", \"product\").options(**properties).load()\n",
    "customer_df = spark.read.format(\"jdbc\").option(\"url\", url).option(\"dbtable\", \"customer\").options(**properties).load()\n",
    "salesorderheader_df = spark.read.format(\"jdbc\").option(\"url\", url).option(\"dbtable\", \"salesorderheader\").options(**properties).load()\n",
    "salesorderdetail_df = spark.read.format(\"jdbc\").option(\"url\", url).option(\"dbtable\", \"salesorderdetail\").options(**properties).load()"
   ]
  },
  {
   "cell_type": "code",
   "execution_count": 14,
   "id": "113408a1",
   "metadata": {},
   "outputs": [
    {
     "name": "stdout",
     "output_type": "stream",
     "text": [
      "Employee Schema\n",
      "root\n",
      " |-- EmployeeID: integer (nullable = true)\n",
      " |-- NationalIDNumber: string (nullable = true)\n",
      " |-- ContactID: integer (nullable = true)\n",
      " |-- LoginID: string (nullable = true)\n",
      " |-- ManagerID: integer (nullable = true)\n",
      " |-- Title: string (nullable = true)\n",
      " |-- BirthDate: timestamp (nullable = true)\n",
      " |-- MaritalStatus: string (nullable = true)\n",
      " |-- Gender: string (nullable = true)\n",
      " |-- HireDate: timestamp (nullable = true)\n",
      " |-- SalariedFlag: boolean (nullable = true)\n",
      " |-- VacationHours: integer (nullable = true)\n",
      " |-- SickLeaveHours: integer (nullable = true)\n",
      " |-- CurrentFlag: boolean (nullable = true)\n",
      " |-- rowguid: binary (nullable = true)\n",
      " |-- ModifiedDate: timestamp (nullable = true)\n",
      "\n",
      "Product Schema\n",
      "root\n",
      " |-- ProductID: integer (nullable = true)\n",
      " |-- Name: string (nullable = true)\n",
      " |-- ProductNumber: string (nullable = true)\n",
      " |-- MakeFlag: boolean (nullable = true)\n",
      " |-- FinishedGoodsFlag: boolean (nullable = true)\n",
      " |-- Color: string (nullable = true)\n",
      " |-- SafetyStockLevel: integer (nullable = true)\n",
      " |-- ReorderPoint: integer (nullable = true)\n",
      " |-- StandardCost: double (nullable = true)\n",
      " |-- ListPrice: double (nullable = true)\n",
      " |-- Size: string (nullable = true)\n",
      " |-- SizeUnitMeasureCode: string (nullable = true)\n",
      " |-- WeightUnitMeasureCode: string (nullable = true)\n",
      " |-- Weight: decimal(8,2) (nullable = true)\n",
      " |-- DaysToManufacture: integer (nullable = true)\n",
      " |-- ProductLine: string (nullable = true)\n",
      " |-- Class: string (nullable = true)\n",
      " |-- Style: string (nullable = true)\n",
      " |-- ProductSubcategoryID: integer (nullable = true)\n",
      " |-- ProductModelID: integer (nullable = true)\n",
      " |-- SellStartDate: timestamp (nullable = true)\n",
      " |-- SellEndDate: timestamp (nullable = true)\n",
      " |-- DiscontinuedDate: timestamp (nullable = true)\n",
      " |-- rowguid: binary (nullable = true)\n",
      " |-- ModifiedDate: timestamp (nullable = true)\n",
      "\n",
      "Customer Schema\n",
      "root\n",
      " |-- CustomerID: integer (nullable = true)\n",
      " |-- TerritoryID: integer (nullable = true)\n",
      " |-- AccountNumber: string (nullable = true)\n",
      " |-- CustomerType: string (nullable = true)\n",
      " |-- rowguid: binary (nullable = true)\n",
      " |-- ModifiedDate: timestamp (nullable = true)\n",
      "\n",
      "Sales Header Schema\n",
      "root\n",
      " |-- SalesOrderID: integer (nullable = true)\n",
      " |-- RevisionNumber: integer (nullable = true)\n",
      " |-- OrderDate: timestamp (nullable = true)\n",
      " |-- DueDate: timestamp (nullable = true)\n",
      " |-- ShipDate: timestamp (nullable = true)\n",
      " |-- Status: integer (nullable = true)\n",
      " |-- OnlineOrderFlag: boolean (nullable = true)\n",
      " |-- SalesOrderNumber: string (nullable = true)\n",
      " |-- PurchaseOrderNumber: string (nullable = true)\n",
      " |-- AccountNumber: string (nullable = true)\n",
      " |-- CustomerID: integer (nullable = true)\n",
      " |-- ContactID: integer (nullable = true)\n",
      " |-- SalesPersonID: integer (nullable = true)\n",
      " |-- TerritoryID: integer (nullable = true)\n",
      " |-- BillToAddressID: integer (nullable = true)\n",
      " |-- ShipToAddressID: integer (nullable = true)\n",
      " |-- ShipMethodID: integer (nullable = true)\n",
      " |-- CreditCardID: integer (nullable = true)\n",
      " |-- CreditCardApprovalCode: string (nullable = true)\n",
      " |-- CurrencyRateID: integer (nullable = true)\n",
      " |-- SubTotal: double (nullable = true)\n",
      " |-- TaxAmt: double (nullable = true)\n",
      " |-- Freight: double (nullable = true)\n",
      " |-- TotalDue: double (nullable = true)\n",
      " |-- Comment: string (nullable = true)\n",
      " |-- rowguid: binary (nullable = true)\n",
      " |-- ModifiedDate: timestamp (nullable = true)\n",
      "\n",
      "Sales Detail Schema\n",
      "root\n",
      " |-- SalesOrderID: integer (nullable = true)\n",
      " |-- SalesOrderDetailID: integer (nullable = true)\n",
      " |-- CarrierTrackingNumber: string (nullable = true)\n",
      " |-- OrderQty: integer (nullable = true)\n",
      " |-- ProductID: integer (nullable = true)\n",
      " |-- SpecialOfferID: integer (nullable = true)\n",
      " |-- UnitPrice: double (nullable = true)\n",
      " |-- UnitPriceDiscount: double (nullable = true)\n",
      " |-- LineTotal: double (nullable = true)\n",
      " |-- rowguid: binary (nullable = true)\n",
      " |-- ModifiedDate: timestamp (nullable = true)\n",
      "\n"
     ]
    }
   ],
   "source": [
    "print(\"Employee Schema\")\n",
    "employee_df.printSchema()\n",
    "\n",
    "print(\"Product Schema\")\n",
    "product_df.printSchema()\n",
    "\n",
    "print(\"Customer Schema\")\n",
    "customer_df.printSchema()\n",
    "\n",
    "print(\"Sales Header Schema\")\n",
    "salesorderheader_df.printSchema()\n",
    "\n",
    "print(\"Sales Detail Schema\")\n",
    "salesorderdetail_df.printSchema()"
   ]
  },
  {
   "cell_type": "code",
   "execution_count": 21,
   "id": "0929b8bf",
   "metadata": {},
   "outputs": [
    {
     "name": "stdout",
     "output_type": "stream",
     "text": [
      "+---------+--------------------+------+\n",
      "|ProductID|                Name| Color|\n",
      "+---------+--------------------+------+\n",
      "|        1|     Adjustable Race|  null|\n",
      "|        2|        Bearing Ball|  null|\n",
      "|        3|     BB Ball Bearing|  null|\n",
      "|        4|Headset Ball Bear...|  null|\n",
      "|      316|               Blade|  null|\n",
      "|      317|         LL Crankarm| Black|\n",
      "|      318|         ML Crankarm| Black|\n",
      "|      319|         HL Crankarm| Black|\n",
      "|      320|     Chainring Bolts|Silver|\n",
      "|      321|       Chainring Nut|Silver|\n",
      "|      322|           Chainring| Black|\n",
      "|      323|          Crown Race|  null|\n",
      "|      324|         Chain Stays|  null|\n",
      "|      325|             Decal 1|  null|\n",
      "|      326|             Decal 2|  null|\n",
      "|      327|           Down Tube|  null|\n",
      "|      328|   Mountain End Caps|  null|\n",
      "|      329|       Road End Caps|  null|\n",
      "|      330|    Touring End Caps|  null|\n",
      "|      331|            Fork End|  null|\n",
      "+---------+--------------------+------+\n",
      "only showing top 20 rows\n",
      "\n"
     ]
    }
   ],
   "source": [
    "product_sort_by_list_price = product_df.select(\"ProductID\", \"Name\", \"Color\").orderBy(\"ListPrice\")\n",
    "product_sort_by_list_price.show()"
   ]
  },
  {
   "cell_type": "markdown",
   "id": "0c4cc017",
   "metadata": {},
   "source": [
    "0. From the following tables write a SQL query to get all product names and sales order IDs. Order the result set on product name column."
   ]
  },
  {
   "cell_type": "code",
   "execution_count": 35,
   "id": "f3bb34f0",
   "metadata": {},
   "outputs": [],
   "source": [
    "# creating a temp view from product df\n",
    "product_view = product_df.createOrReplaceTempView(\"product\")\n",
    "salesorderheader = salesorderheader_df.createOrReplaceTempView(\"salesorderheader\")\n",
    "salesorderdetail = salesorderdetail_df.createOrReplaceTempView(\"salesorderdetail\")"
   ]
  },
  {
   "cell_type": "code",
   "execution_count": 38,
   "id": "fed1686d",
   "metadata": {},
   "outputs": [
    {
     "data": {
      "text/plain": [
       "121317"
      ]
     },
     "execution_count": 38,
     "metadata": {},
     "output_type": "execute_result"
    }
   ],
   "source": [
    "result = spark.sql(\"\"\"\n",
    "    SELECT\n",
    "        p.Name,\n",
    "        soh.SalesOrderID\n",
    "    FROM salesorderheader soh\n",
    "    inner join salesorderdetail sod on soh.SalesOrderID = sod.SalesOrderID\n",
    "    inner join product p on sod.ProductID = p.ProductID\n",
    "\"\"\")\n",
    "result.count()"
   ]
  },
  {
   "cell_type": "code",
   "execution_count": null,
   "id": "cbe10353",
   "metadata": {},
   "outputs": [],
   "source": []
  }
 ],
 "metadata": {
  "kernelspec": {
   "display_name": "Python 3 (ipykernel)",
   "language": "python",
   "name": "python3"
  },
  "language_info": {
   "codemirror_mode": {
    "name": "ipython",
    "version": 3
   },
   "file_extension": ".py",
   "mimetype": "text/x-python",
   "name": "python",
   "nbconvert_exporter": "python",
   "pygments_lexer": "ipython3",
   "version": "3.9.18"
  }
 },
 "nbformat": 4,
 "nbformat_minor": 5
}
